{
 "cells": [
  {
   "cell_type": "markdown",
   "id": "6a33c2c8",
   "metadata": {},
   "source": [
    "# Netflix Movies and TV Shows\n",
    "\n",
    "<p style='text-align: justify;'>Netflix, Inc. is an American subscription streaming service and production company. Netflix was founded in 1997 by Reed Hastings and Marc Randolph in Scotts Valley, California. Netflix initially both sold and rented DVDs by mail, but the sales were eliminated within a year to focus on the DVD rental business. In 2007, Netflix introduced streaming media and video on demand. The company expanded to Canada in 2010, followed by Latin America and the Caribbean. Netflix entered the content production industry in 2013, debuting its first series House of Cards. In January 2016, it expanded to an additional 130 countries and then operated in 190 countries. As of December 31, 2021, Netflix had over 221.8 million subscribers worldwide, including 75.2 million in the United States and Canada, 74.0 million in Europe, the Middle East and Africa, 39.9 million in Latin America and 32.7 million in Asia-Pacific.</p>\n",
    "\n",
    "Our goal in this project is to perform ***exploratory data analysis*** and try to obtain some information about Netflix content.\n",
    "\n",
    "## *Table of Contents*\n",
    "\n",
    "- [*Introduction*](#introduction)\n",
    "    - [*Libraries*](#libraries)\n",
    "    - [*Data Collection*](#data_collection)\n",
    "- [*Analysis*](#analysis)\n",
    "    - [*Q1: Who directed \"Breaking Bad\" and who was the star actor?*](#q1)\n",
    "    - [*Q2: In which year were the most movies and TV shows released?*](#q2)\n",
    "    - [*Q3: How many movies and TV shows are in the dataset?*](#q3)\n",
    "    - [*Q4: What are the top 10 genres of movies and TV shows respectively?*](#q4)\n",
    "    - [*Q5: Show all the movies that were released in 2000*](#q5)\n",
    "    - [*Q6: What are the top 10 countries with most content?*](#q6)\n",
    "    - [*Q7: Show all the TV shows that were released in any nordic country*](#q7)\n",
    "    - [*Q8: Show the top 10 directors with most movies and TV shows in Netflix*](#q8)\n",
    "    - [*Q9: Show all comedy movies starring either Jim Carrey or Jackie Chan*](#q9)\n",
    "    - [*Q10: What are the different ratings defined by Netflix?*](#q10)\n",
    "    - [*Q11: What is the duration of the longest movie?*](#q11)\n",
    "    - [*Q12: Show the top 5 longest movies*](#q12)\n",
    "    - [*Q13: What is the average duration of a movie?*](#q13)\n",
    "    - [*Q14: What are the TV shows released between 2010-2015 with at least 5 seasons?*](#q14)\n",
    "    - [*Q15: Show the actors with most appearances in movies and TV shows in US and UK*](#q15)\n",
    "\n",
    "---"
   ]
  },
  {
   "cell_type": "markdown",
   "id": "86aa20f2",
   "metadata": {},
   "source": [
    "## Introduction <a class='anchor' id='introduction'></a>\n",
    "\n",
    "### *Libraries* <a class='anchor' id='libraries'></a>"
   ]
  },
  {
   "cell_type": "code",
   "execution_count": 1,
   "id": "968947cf",
   "metadata": {},
   "outputs": [],
   "source": [
    "import pandas as pd\n",
    "import matplotlib.pyplot as plt\n",
    "import seaborn as sns\n",
    "%matplotlib inline\n",
    "\n",
    "import missingno as msno\n",
    "from collections import Counter\n",
    "\n",
    "import warnings\n",
    "warnings.filterwarnings('ignore')"
   ]
  },
  {
   "cell_type": "markdown",
   "id": "5fd2c0ef",
   "metadata": {},
   "source": [
    "### *Data Collection* <a class='anchor' id='data_collection'></a>\n",
    "\n",
    "- The data was acquired from [kaggle](https://www.kaggle.com/datasets/shivamb/netflix-shows)\n",
    "- However, the data was originally collected from [Flixable](https://flixable.com/), which is a third-party search engine\n",
    "- The dataset consists of movies and TV shows that were available on Netflix up to 2021\n",
    "- It includes meta-details about movies and TV shows such as title, director, cast, release year, rating, duration etc.\n",
    "\n",
    "##### *Read the data*"
   ]
  },
  {
   "cell_type": "code",
   "execution_count": 2,
   "id": "bc769f06",
   "metadata": {},
   "outputs": [],
   "source": [
    "df = pd.read_csv('./data/netflix_dataset.csv')"
   ]
  },
  {
   "cell_type": "code",
   "execution_count": 3,
   "id": "c6972369",
   "metadata": {},
   "outputs": [
    {
     "data": {
      "text/html": [
       "<div>\n",
       "<style scoped>\n",
       "    .dataframe tbody tr th:only-of-type {\n",
       "        vertical-align: middle;\n",
       "    }\n",
       "\n",
       "    .dataframe tbody tr th {\n",
       "        vertical-align: top;\n",
       "    }\n",
       "\n",
       "    .dataframe thead th {\n",
       "        text-align: right;\n",
       "    }\n",
       "</style>\n",
       "<table border=\"1\" class=\"dataframe\">\n",
       "  <thead>\n",
       "    <tr style=\"text-align: right;\">\n",
       "      <th></th>\n",
       "      <th>show_id</th>\n",
       "      <th>type</th>\n",
       "      <th>title</th>\n",
       "      <th>director</th>\n",
       "      <th>cast</th>\n",
       "      <th>country</th>\n",
       "      <th>date_added</th>\n",
       "      <th>release_year</th>\n",
       "      <th>rating</th>\n",
       "      <th>duration</th>\n",
       "      <th>listed_in</th>\n",
       "      <th>description</th>\n",
       "    </tr>\n",
       "  </thead>\n",
       "  <tbody>\n",
       "    <tr>\n",
       "      <th>0</th>\n",
       "      <td>s1</td>\n",
       "      <td>Movie</td>\n",
       "      <td>Dick Johnson Is Dead</td>\n",
       "      <td>Kirsten Johnson</td>\n",
       "      <td>NaN</td>\n",
       "      <td>United States</td>\n",
       "      <td>September 25, 2021</td>\n",
       "      <td>2020</td>\n",
       "      <td>PG-13</td>\n",
       "      <td>90 min</td>\n",
       "      <td>Documentaries</td>\n",
       "      <td>As her father nears the end of his life, filmm...</td>\n",
       "    </tr>\n",
       "    <tr>\n",
       "      <th>1</th>\n",
       "      <td>s2</td>\n",
       "      <td>TV Show</td>\n",
       "      <td>Blood &amp; Water</td>\n",
       "      <td>NaN</td>\n",
       "      <td>Ama Qamata, Khosi Ngema, Gail Mabalane, Thaban...</td>\n",
       "      <td>South Africa</td>\n",
       "      <td>September 24, 2021</td>\n",
       "      <td>2021</td>\n",
       "      <td>TV-MA</td>\n",
       "      <td>2 Seasons</td>\n",
       "      <td>International TV Shows, TV Dramas, TV Mysteries</td>\n",
       "      <td>After crossing paths at a party, a Cape Town t...</td>\n",
       "    </tr>\n",
       "    <tr>\n",
       "      <th>2</th>\n",
       "      <td>s3</td>\n",
       "      <td>TV Show</td>\n",
       "      <td>Ganglands</td>\n",
       "      <td>Julien Leclercq</td>\n",
       "      <td>Sami Bouajila, Tracy Gotoas, Samuel Jouy, Nabi...</td>\n",
       "      <td>NaN</td>\n",
       "      <td>September 24, 2021</td>\n",
       "      <td>2021</td>\n",
       "      <td>TV-MA</td>\n",
       "      <td>1 Season</td>\n",
       "      <td>Crime TV Shows, International TV Shows, TV Act...</td>\n",
       "      <td>To protect his family from a powerful drug lor...</td>\n",
       "    </tr>\n",
       "    <tr>\n",
       "      <th>3</th>\n",
       "      <td>s4</td>\n",
       "      <td>TV Show</td>\n",
       "      <td>Jailbirds New Orleans</td>\n",
       "      <td>NaN</td>\n",
       "      <td>NaN</td>\n",
       "      <td>NaN</td>\n",
       "      <td>September 24, 2021</td>\n",
       "      <td>2021</td>\n",
       "      <td>TV-MA</td>\n",
       "      <td>1 Season</td>\n",
       "      <td>Docuseries, Reality TV</td>\n",
       "      <td>Feuds, flirtations and toilet talk go down amo...</td>\n",
       "    </tr>\n",
       "    <tr>\n",
       "      <th>4</th>\n",
       "      <td>s5</td>\n",
       "      <td>TV Show</td>\n",
       "      <td>Kota Factory</td>\n",
       "      <td>NaN</td>\n",
       "      <td>Mayur More, Jitendra Kumar, Ranjan Raj, Alam K...</td>\n",
       "      <td>India</td>\n",
       "      <td>September 24, 2021</td>\n",
       "      <td>2021</td>\n",
       "      <td>TV-MA</td>\n",
       "      <td>2 Seasons</td>\n",
       "      <td>International TV Shows, Romantic TV Shows, TV ...</td>\n",
       "      <td>In a city of coaching centers known to train I...</td>\n",
       "    </tr>\n",
       "  </tbody>\n",
       "</table>\n",
       "</div>"
      ],
      "text/plain": [
       "  show_id     type                  title         director  \\\n",
       "0      s1    Movie   Dick Johnson Is Dead  Kirsten Johnson   \n",
       "1      s2  TV Show          Blood & Water              NaN   \n",
       "2      s3  TV Show              Ganglands  Julien Leclercq   \n",
       "3      s4  TV Show  Jailbirds New Orleans              NaN   \n",
       "4      s5  TV Show           Kota Factory              NaN   \n",
       "\n",
       "                                                cast        country  \\\n",
       "0                                                NaN  United States   \n",
       "1  Ama Qamata, Khosi Ngema, Gail Mabalane, Thaban...   South Africa   \n",
       "2  Sami Bouajila, Tracy Gotoas, Samuel Jouy, Nabi...            NaN   \n",
       "3                                                NaN            NaN   \n",
       "4  Mayur More, Jitendra Kumar, Ranjan Raj, Alam K...          India   \n",
       "\n",
       "           date_added  release_year rating   duration  \\\n",
       "0  September 25, 2021          2020  PG-13     90 min   \n",
       "1  September 24, 2021          2021  TV-MA  2 Seasons   \n",
       "2  September 24, 2021          2021  TV-MA   1 Season   \n",
       "3  September 24, 2021          2021  TV-MA   1 Season   \n",
       "4  September 24, 2021          2021  TV-MA  2 Seasons   \n",
       "\n",
       "                                           listed_in  \\\n",
       "0                                      Documentaries   \n",
       "1    International TV Shows, TV Dramas, TV Mysteries   \n",
       "2  Crime TV Shows, International TV Shows, TV Act...   \n",
       "3                             Docuseries, Reality TV   \n",
       "4  International TV Shows, Romantic TV Shows, TV ...   \n",
       "\n",
       "                                         description  \n",
       "0  As her father nears the end of his life, filmm...  \n",
       "1  After crossing paths at a party, a Cape Town t...  \n",
       "2  To protect his family from a powerful drug lor...  \n",
       "3  Feuds, flirtations and toilet talk go down amo...  \n",
       "4  In a city of coaching centers known to train I...  "
      ]
     },
     "execution_count": 3,
     "metadata": {},
     "output_type": "execute_result"
    }
   ],
   "source": [
    "df.head()"
   ]
  },
  {
   "cell_type": "code",
   "execution_count": 4,
   "id": "b9172e27",
   "metadata": {},
   "outputs": [
    {
     "data": {
      "text/plain": [
       "(8804, 12)"
      ]
     },
     "execution_count": 4,
     "metadata": {},
     "output_type": "execute_result"
    }
   ],
   "source": [
    "df.shape"
   ]
  },
  {
   "cell_type": "code",
   "execution_count": 5,
   "id": "943bad4c",
   "metadata": {},
   "outputs": [
    {
     "name": "stdout",
     "output_type": "stream",
     "text": [
      "<class 'pandas.core.frame.DataFrame'>\n",
      "RangeIndex: 8804 entries, 0 to 8803\n",
      "Data columns (total 12 columns):\n",
      " #   Column        Non-Null Count  Dtype \n",
      "---  ------        --------------  ----- \n",
      " 0   show_id       8804 non-null   object\n",
      " 1   type          8804 non-null   object\n",
      " 2   title         8804 non-null   object\n",
      " 3   director      6171 non-null   object\n",
      " 4   cast          7979 non-null   object\n",
      " 5   country       7973 non-null   object\n",
      " 6   date_added    8794 non-null   object\n",
      " 7   release_year  8804 non-null   int64 \n",
      " 8   rating        8800 non-null   object\n",
      " 9   duration      8804 non-null   object\n",
      " 10  listed_in     8804 non-null   object\n",
      " 11  description   8804 non-null   object\n",
      "dtypes: int64(1), object(11)\n",
      "memory usage: 825.5+ KB\n"
     ]
    }
   ],
   "source": [
    "df.info()"
   ]
  },
  {
   "cell_type": "markdown",
   "id": "8e48af1d",
   "metadata": {},
   "source": [
    "##### *Check for duplicate values*"
   ]
  },
  {
   "cell_type": "code",
   "execution_count": 6,
   "id": "dc4a0c35",
   "metadata": {},
   "outputs": [
    {
     "name": "stdout",
     "output_type": "stream",
     "text": [
      "There are 0 duplicate values in our data.\n"
     ]
    }
   ],
   "source": [
    "print(f'There are {df.duplicated().sum()} duplicate values in our data.')"
   ]
  },
  {
   "cell_type": "markdown",
   "id": "cabbe8d4",
   "metadata": {},
   "source": [
    "##### *Plot missing values*"
   ]
  },
  {
   "cell_type": "code",
   "execution_count": 7,
   "id": "49525ec1",
   "metadata": {},
   "outputs": [
    {
     "data": {
      "image/png": "[encoded data removed]",
      "text/plain": [
       "<Figure size 1800x720 with 2 Axes>"
      ]
     },
     "metadata": {
      "needs_background": "light"
     },
     "output_type": "display_data"
    }
   ],
   "source": [
    "# create msno matrix\n",
    "msno.matrix(df)\n",
    "\n",
    "# plot the matrix\n",
    "plt.show()"
   ]
  },
  {
   "cell_type": "markdown",
   "id": "b6e9564a",
   "metadata": {},
   "source": [
    "---\n",
    "\n",
    "## Analysis <a class='anchor' id='analysis'></a>\n",
    "\n",
    "### *Q1: Who directed \"Breaking Bad\" and who was the star actor?* <a class='anchor' id='q1'></a>\n",
    "\n",
    "##### *Create a dataframe contaning only information about Breaking Bad*"
   ]
  },
  {
   "cell_type": "code",
   "execution_count": 8,
   "id": "f6209607",
   "metadata": {},
   "outputs": [],
   "source": [
    "breaking_bad = df[df['title'] == 'Breaking Bad']"
   ]
  },
  {
   "cell_type": "code",
   "execution_count": 9,
   "id": "b6b15630",
   "metadata": {},
   "outputs": [
    {
     "data": {
      "text/html": [
       "<div>\n",
       "<style scoped>\n",
       "    .dataframe tbody tr th:only-of-type {\n",
       "        vertical-align: middle;\n",
       "    }\n",
       "\n",
       "    .dataframe tbody tr th {\n",
       "        vertical-align: top;\n",
       "    }\n",
       "\n",
       "    .dataframe thead th {\n",
       "        text-align: right;\n",
       "    }\n",
       "</style>\n",
       "<table border=\"1\" class=\"dataframe\">\n",
       "  <thead>\n",
       "    <tr style=\"text-align: right;\">\n",
       "      <th></th>\n",
       "      <th>show_id</th>\n",
       "      <th>type</th>\n",
       "      <th>title</th>\n",
       "      <th>director</th>\n",
       "      <th>cast</th>\n",
       "      <th>country</th>\n",
       "      <th>date_added</th>\n",
       "      <th>release_year</th>\n",
       "      <th>rating</th>\n",
       "      <th>duration</th>\n",
       "      <th>listed_in</th>\n",
       "      <th>description</th>\n",
       "    </tr>\n",
       "  </thead>\n",
       "  <tbody>\n",
       "    <tr>\n",
       "      <th>5937</th>\n",
       "      <td>s5941</td>\n",
       "      <td>TV Show</td>\n",
       "      <td>Breaking Bad</td>\n",
       "      <td>Vince Gilligan</td>\n",
       "      <td>Bryan Cranston, Aaron Paul, Anna Gunn, Dean No...</td>\n",
       "      <td>United States</td>\n",
       "      <td>August 2, 2013</td>\n",
       "      <td>2013</td>\n",
       "      <td>TV-MA</td>\n",
       "      <td>5 Seasons</td>\n",
       "      <td>Crime TV Shows, TV Dramas, TV Thrillers</td>\n",
       "      <td>A high school chemistry teacher dying of cance...</td>\n",
       "    </tr>\n",
       "  </tbody>\n",
       "</table>\n",
       "</div>"
      ],
      "text/plain": [
       "     show_id     type         title        director  \\\n",
       "5937   s5941  TV Show  Breaking Bad  Vince Gilligan   \n",
       "\n",
       "                                                   cast        country  \\\n",
       "5937  Bryan Cranston, Aaron Paul, Anna Gunn, Dean No...  United States   \n",
       "\n",
       "          date_added  release_year rating   duration  \\\n",
       "5937  August 2, 2013          2013  TV-MA  5 Seasons   \n",
       "\n",
       "                                    listed_in  \\\n",
       "5937  Crime TV Shows, TV Dramas, TV Thrillers   \n",
       "\n",
       "                                            description  \n",
       "5937  A high school chemistry teacher dying of cance...  "
      ]
     },
     "execution_count": 9,
     "metadata": {},
     "output_type": "execute_result"
    }
   ],
   "source": [
    "breaking_bad"
   ]
  },
  {
   "cell_type": "markdown",
   "id": "54025ec6",
   "metadata": {},
   "source": [
    "##### *Get the director and the star actor*"
   ]
  },
  {
   "cell_type": "code",
   "execution_count": 10,
   "id": "f3dfeacb",
   "metadata": {},
   "outputs": [],
   "source": [
    "# get director\n",
    "director = breaking_bad.iloc[0,3]\n",
    "\n",
    "# get star actor\n",
    "star_act = breaking_bad.iloc[0,4].split(',')[0]"
   ]
  },
  {
   "cell_type": "markdown",
   "id": "cedb3cf8",
   "metadata": {},
   "source": [
    "##### *Display the result*"
   ]
  },
  {
   "cell_type": "code",
   "execution_count": 11,
   "id": "608c3fad",
   "metadata": {},
   "outputs": [
    {
     "name": "stdout",
     "output_type": "stream",
     "text": [
      "The director of Breaking Bad was Vince Gilligan and the star actor was Bryan Cranston.\n"
     ]
    }
   ],
   "source": [
    "print(f'The director of Breaking Bad was {director} and the star actor was {star_act}.')"
   ]
  },
  {
   "cell_type": "markdown",
   "id": "68982668",
   "metadata": {},
   "source": [
    "### *Question 2: In which year were the most movies and TV shows released?* <a class='anchor' id='q2'></a>\n",
    "\n",
    "##### *Group movies and TV shows by year and count how many movies were released each year*"
   ]
  },
  {
   "cell_type": "code",
   "execution_count": 12,
   "id": "e5c96d75",
   "metadata": {},
   "outputs": [],
   "source": [
    "# group by year and get the number of releases per year\n",
    "releases = df.groupby(['release_year'])['show_id'].count()"
   ]
  },
  {
   "cell_type": "markdown",
   "id": "1d4276e5",
   "metadata": {},
   "source": [
    "##### *Display the result*"
   ]
  },
  {
   "cell_type": "code",
   "execution_count": 13,
   "id": "b4516826",
   "metadata": {},
   "outputs": [
    {
     "name": "stdout",
     "output_type": "stream",
     "text": [
      "Most movies and TV shows were released in 2018.\n"
     ]
    }
   ],
   "source": [
    "print(f'Most movies and TV shows were released in {releases[releases == releases.max()].index[0]}.')"
   ]
  },
  {
   "cell_type": "markdown",
   "id": "485dd91c",
   "metadata": {},
   "source": [
    "##### *Plot the result*"
   ]
  },
  {
   "cell_type": "code",
   "execution_count": 14,
   "id": "1fb593d3",
   "metadata": {},
   "outputs": [
    {
     "data": {
      "image/png": "[encoded data removed]",
      "text/plain": [
       "<Figure size 1200x400 with 1 Axes>"
      ]
     },
     "metadata": {},
     "output_type": "display_data"
    }
   ],
   "source": [
    "plt.figure(figsize=(12,4), dpi=100, facecolor='white')\n",
    "releases.plot(kind='bar')\n",
    "plt.xlabel(None)\n",
    "plt.title('Number of movies and TV shows released in each year')\n",
    "plt.savefig('./images/releases_per_year.svg')\n",
    "plt.show()"
   ]
  },
  {
   "cell_type": "markdown",
   "id": "0c4066e4",
   "metadata": {},
   "source": [
    "### *Question 3: How many movies and TV shows are in the dataset?* <a class='anchor' id='q3'></a>\n",
    "\n",
    "##### *Group movies and TV shows by type (movie or TV show) and get the count of each type*"
   ]
  },
  {
   "cell_type": "code",
   "execution_count": 15,
   "id": "4e5eac57",
   "metadata": {},
   "outputs": [],
   "source": [
    "# group by type and get the count of each type\n",
    "movie_or_show = df.groupby('type')['show_id'].count()"
   ]
  },
  {
   "cell_type": "markdown",
   "id": "efafe884",
   "metadata": {},
   "source": [
    "##### *Display the result*"
   ]
  },
  {
   "cell_type": "code",
   "execution_count": 16,
   "id": "77dec708",
   "metadata": {},
   "outputs": [
    {
     "name": "stdout",
     "output_type": "stream",
     "text": [
      "There are 6128 movies and 2676 tv shows.\n"
     ]
    }
   ],
   "source": [
    "print(f'There are {movie_or_show[0]} movies and {movie_or_show[1]} tv shows.')"
   ]
  },
  {
   "cell_type": "markdown",
   "id": "40206402",
   "metadata": {},
   "source": [
    "##### *Plot the result*"
   ]
  },
  {
   "cell_type": "code",
   "execution_count": 17,
   "id": "315ff711",
   "metadata": {},
   "outputs": [
    {
     "data": {
      "image/png": "[encoded data removed]",
      "text/plain": [
       "<Figure size 1200x400 with 1 Axes>"
      ]
     },
     "metadata": {},
     "output_type": "display_data"
    }
   ],
   "source": [
    "plt.figure(figsize=(12,4), dpi=100, facecolor='white')\n",
    "sns.countplot(df['type'])\n",
    "plt.xlabel(None)\n",
    "plt.ylabel(None)\n",
    "plt.title('Number of movies and TV shows in the dataset')\n",
    "plt.savefig('./images/movies_and_tv_shows.svg')\n",
    "plt.show()"
   ]
  },
  {
   "cell_type": "markdown",
   "id": "80ade967",
   "metadata": {},
   "source": [
    "### *Question 4: What are the top 10 genres of movies and TV shows respectively?* <a class='anchor' id='q4'></a>\n",
    "\n",
    "##### *Create a dataframe containing only movies*"
   ]
  },
  {
   "cell_type": "code",
   "execution_count": 18,
   "id": "f82baff6",
   "metadata": {},
   "outputs": [],
   "source": [
    "# create df only with movies\n",
    "df_movies = df[df['type'] == 'Movie']"
   ]
  },
  {
   "cell_type": "code",
   "execution_count": 19,
   "id": "e1434a27",
   "metadata": {},
   "outputs": [
    {
     "data": {
      "text/html": [
       "<div>\n",
       "<style scoped>\n",
       "    .dataframe tbody tr th:only-of-type {\n",
       "        vertical-align: middle;\n",
       "    }\n",
       "\n",
       "    .dataframe tbody tr th {\n",
       "        vertical-align: top;\n",
       "    }\n",
       "\n",
       "    .dataframe thead th {\n",
       "        text-align: right;\n",
       "    }\n",
       "</style>\n",
       "<table border=\"1\" class=\"dataframe\">\n",
       "  <thead>\n",
       "    <tr style=\"text-align: right;\">\n",
       "      <th></th>\n",
       "      <th>show_id</th>\n",
       "      <th>type</th>\n",
       "      <th>title</th>\n",
       "      <th>director</th>\n",
       "      <th>cast</th>\n",
       "      <th>country</th>\n",
       "      <th>date_added</th>\n",
       "      <th>release_year</th>\n",
       "      <th>rating</th>\n",
       "      <th>duration</th>\n",
       "      <th>listed_in</th>\n",
       "      <th>description</th>\n",
       "    </tr>\n",
       "  </thead>\n",
       "  <tbody>\n",
       "    <tr>\n",
       "      <th>0</th>\n",
       "      <td>s1</td>\n",
       "      <td>Movie</td>\n",
       "      <td>Dick Johnson Is Dead</td>\n",
       "      <td>Kirsten Johnson</td>\n",
       "      <td>NaN</td>\n",
       "      <td>United States</td>\n",
       "      <td>September 25, 2021</td>\n",
       "      <td>2020</td>\n",
       "      <td>PG-13</td>\n",
       "      <td>90 min</td>\n",
       "      <td>Documentaries</td>\n",
       "      <td>As her father nears the end of his life, filmm...</td>\n",
       "    </tr>\n",
       "    <tr>\n",
       "      <th>6</th>\n",
       "      <td>s7</td>\n",
       "      <td>Movie</td>\n",
       "      <td>My Little Pony: A New Generation</td>\n",
       "      <td>Robert Cullen, José Luis Ucha</td>\n",
       "      <td>Vanessa Hudgens, Kimiko Glenn, James Marsden, ...</td>\n",
       "      <td>NaN</td>\n",
       "      <td>September 24, 2021</td>\n",
       "      <td>2021</td>\n",
       "      <td>PG</td>\n",
       "      <td>91 min</td>\n",
       "      <td>Children &amp; Family Movies</td>\n",
       "      <td>Equestria's divided. But a bright-eyed hero be...</td>\n",
       "    </tr>\n",
       "    <tr>\n",
       "      <th>7</th>\n",
       "      <td>s8</td>\n",
       "      <td>Movie</td>\n",
       "      <td>Sankofa</td>\n",
       "      <td>Haile Gerima</td>\n",
       "      <td>Kofi Ghanaba, Oyafunmike Ogunlano, Alexandra D...</td>\n",
       "      <td>United States, Ghana, Burkina Faso, United Kin...</td>\n",
       "      <td>September 24, 2021</td>\n",
       "      <td>1993</td>\n",
       "      <td>TV-MA</td>\n",
       "      <td>125 min</td>\n",
       "      <td>Dramas, Independent Movies, International Movies</td>\n",
       "      <td>On a photo shoot in Ghana, an American model s...</td>\n",
       "    </tr>\n",
       "  </tbody>\n",
       "</table>\n",
       "</div>"
      ],
      "text/plain": [
       "  show_id   type                             title  \\\n",
       "0      s1  Movie              Dick Johnson Is Dead   \n",
       "6      s7  Movie  My Little Pony: A New Generation   \n",
       "7      s8  Movie                           Sankofa   \n",
       "\n",
       "                        director  \\\n",
       "0                Kirsten Johnson   \n",
       "6  Robert Cullen, José Luis Ucha   \n",
       "7                   Haile Gerima   \n",
       "\n",
       "                                                cast  \\\n",
       "0                                                NaN   \n",
       "6  Vanessa Hudgens, Kimiko Glenn, James Marsden, ...   \n",
       "7  Kofi Ghanaba, Oyafunmike Ogunlano, Alexandra D...   \n",
       "\n",
       "                                             country          date_added  \\\n",
       "0                                      United States  September 25, 2021   \n",
       "6                                                NaN  September 24, 2021   \n",
       "7  United States, Ghana, Burkina Faso, United Kin...  September 24, 2021   \n",
       "\n",
       "   release_year rating duration  \\\n",
       "0          2020  PG-13   90 min   \n",
       "6          2021     PG   91 min   \n",
       "7          1993  TV-MA  125 min   \n",
       "\n",
       "                                          listed_in  \\\n",
       "0                                     Documentaries   \n",
       "6                          Children & Family Movies   \n",
       "7  Dramas, Independent Movies, International Movies   \n",
       "\n",
       "                                         description  \n",
       "0  As her father nears the end of his life, filmm...  \n",
       "6  Equestria's divided. But a bright-eyed hero be...  \n",
       "7  On a photo shoot in Ghana, an American model s...  "
      ]
     },
     "execution_count": 19,
     "metadata": {},
     "output_type": "execute_result"
    }
   ],
   "source": [
    "df_movies.head(3)"
   ]
  },
  {
   "cell_type": "markdown",
   "id": "48203303",
   "metadata": {},
   "source": [
    "##### *Find all distinct movie genres*"
   ]
  },
  {
   "cell_type": "code",
   "execution_count": 20,
   "id": "3a25d1fa",
   "metadata": {},
   "outputs": [],
   "source": [
    "# get all movie genre values as tokens\n",
    "gen_movies = ', '.join(df_movies['listed_in']).split(', ')\n",
    "\n",
    "# count distinct movie genres and get the top 10\n",
    "counter_movies = Counter(gen_movies).most_common(10)"
   ]
  },
  {
   "cell_type": "markdown",
   "id": "9d1d4aaf",
   "metadata": {},
   "source": [
    "##### *Display the top 10 genres of movies*"
   ]
  },
  {
   "cell_type": "code",
   "execution_count": 21,
   "id": "88631d7c",
   "metadata": {},
   "outputs": [
    {
     "name": "stdout",
     "output_type": "stream",
     "text": [
      "01: International Movies (2752)\n",
      "02: Dramas (2427)\n",
      "03: Comedies (1674)\n",
      "04: Documentaries (869)\n",
      "05: Action & Adventure (859)\n",
      "06: Independent Movies (756)\n",
      "07: Children & Family Movies (641)\n",
      "08: Romantic Movies (616)\n",
      "09: Thrillers (577)\n",
      "10: Music & Musicals (375)\n"
     ]
    }
   ],
   "source": [
    "for i in range(10):\n",
    "    if i < 9:\n",
    "        print(f'0{i+1}: {counter_movies[i][0]} ({counter_movies[i][1]})')\n",
    "    else:\n",
    "        print(f'{i+1}: {counter_movies[i][0]} ({counter_movies[i][1]})')"
   ]
  },
  {
   "cell_type": "markdown",
   "id": "40c95767",
   "metadata": {},
   "source": [
    "##### *Create a dataframe containing only TV shows*"
   ]
  },
  {
   "cell_type": "code",
   "execution_count": 22,
   "id": "6f7ac134",
   "metadata": {},
   "outputs": [],
   "source": [
    "# create df only with tv shows\n",
    "df_tvshows = df[df['type'] == 'TV Show']"
   ]
  },
  {
   "cell_type": "code",
   "execution_count": 23,
   "id": "7a42da5b",
   "metadata": {},
   "outputs": [
    {
     "data": {
      "text/html": [
       "<div>\n",
       "<style scoped>\n",
       "    .dataframe tbody tr th:only-of-type {\n",
       "        vertical-align: middle;\n",
       "    }\n",
       "\n",
       "    .dataframe tbody tr th {\n",
       "        vertical-align: top;\n",
       "    }\n",
       "\n",
       "    .dataframe thead th {\n",
       "        text-align: right;\n",
       "    }\n",
       "</style>\n",
       "<table border=\"1\" class=\"dataframe\">\n",
       "  <thead>\n",
       "    <tr style=\"text-align: right;\">\n",
       "      <th></th>\n",
       "      <th>show_id</th>\n",
       "      <th>type</th>\n",
       "      <th>title</th>\n",
       "      <th>director</th>\n",
       "      <th>cast</th>\n",
       "      <th>country</th>\n",
       "      <th>date_added</th>\n",
       "      <th>release_year</th>\n",
       "      <th>rating</th>\n",
       "      <th>duration</th>\n",
       "      <th>listed_in</th>\n",
       "      <th>description</th>\n",
       "    </tr>\n",
       "  </thead>\n",
       "  <tbody>\n",
       "    <tr>\n",
       "      <th>1</th>\n",
       "      <td>s2</td>\n",
       "      <td>TV Show</td>\n",
       "      <td>Blood &amp; Water</td>\n",
       "      <td>NaN</td>\n",
       "      <td>Ama Qamata, Khosi Ngema, Gail Mabalane, Thaban...</td>\n",
       "      <td>South Africa</td>\n",
       "      <td>September 24, 2021</td>\n",
       "      <td>2021</td>\n",
       "      <td>TV-MA</td>\n",
       "      <td>2 Seasons</td>\n",
       "      <td>International TV Shows, TV Dramas, TV Mysteries</td>\n",
       "      <td>After crossing paths at a party, a Cape Town t...</td>\n",
       "    </tr>\n",
       "    <tr>\n",
       "      <th>2</th>\n",
       "      <td>s3</td>\n",
       "      <td>TV Show</td>\n",
       "      <td>Ganglands</td>\n",
       "      <td>Julien Leclercq</td>\n",
       "      <td>Sami Bouajila, Tracy Gotoas, Samuel Jouy, Nabi...</td>\n",
       "      <td>NaN</td>\n",
       "      <td>September 24, 2021</td>\n",
       "      <td>2021</td>\n",
       "      <td>TV-MA</td>\n",
       "      <td>1 Season</td>\n",
       "      <td>Crime TV Shows, International TV Shows, TV Act...</td>\n",
       "      <td>To protect his family from a powerful drug lor...</td>\n",
       "    </tr>\n",
       "    <tr>\n",
       "      <th>3</th>\n",
       "      <td>s4</td>\n",
       "      <td>TV Show</td>\n",
       "      <td>Jailbirds New Orleans</td>\n",
       "      <td>NaN</td>\n",
       "      <td>NaN</td>\n",
       "      <td>NaN</td>\n",
       "      <td>September 24, 2021</td>\n",
       "      <td>2021</td>\n",
       "      <td>TV-MA</td>\n",
       "      <td>1 Season</td>\n",
       "      <td>Docuseries, Reality TV</td>\n",
       "      <td>Feuds, flirtations and toilet talk go down amo...</td>\n",
       "    </tr>\n",
       "  </tbody>\n",
       "</table>\n",
       "</div>"
      ],
      "text/plain": [
       "  show_id     type                  title         director  \\\n",
       "1      s2  TV Show          Blood & Water              NaN   \n",
       "2      s3  TV Show              Ganglands  Julien Leclercq   \n",
       "3      s4  TV Show  Jailbirds New Orleans              NaN   \n",
       "\n",
       "                                                cast       country  \\\n",
       "1  Ama Qamata, Khosi Ngema, Gail Mabalane, Thaban...  South Africa   \n",
       "2  Sami Bouajila, Tracy Gotoas, Samuel Jouy, Nabi...           NaN   \n",
       "3                                                NaN           NaN   \n",
       "\n",
       "           date_added  release_year rating   duration  \\\n",
       "1  September 24, 2021          2021  TV-MA  2 Seasons   \n",
       "2  September 24, 2021          2021  TV-MA   1 Season   \n",
       "3  September 24, 2021          2021  TV-MA   1 Season   \n",
       "\n",
       "                                           listed_in  \\\n",
       "1    International TV Shows, TV Dramas, TV Mysteries   \n",
       "2  Crime TV Shows, International TV Shows, TV Act...   \n",
       "3                             Docuseries, Reality TV   \n",
       "\n",
       "                                         description  \n",
       "1  After crossing paths at a party, a Cape Town t...  \n",
       "2  To protect his family from a powerful drug lor...  \n",
       "3  Feuds, flirtations and toilet talk go down amo...  "
      ]
     },
     "execution_count": 23,
     "metadata": {},
     "output_type": "execute_result"
    }
   ],
   "source": [
    "df_tvshows.head(3)"
   ]
  },
  {
   "cell_type": "markdown",
   "id": "c0b9ab26",
   "metadata": {},
   "source": [
    "##### *Find all distinct TV show genres*"
   ]
  },
  {
   "cell_type": "code",
   "execution_count": 24,
   "id": "14b47034",
   "metadata": {},
   "outputs": [],
   "source": [
    "# get all tv show genre values as tokens\n",
    "gen_tvshows = ', '.join(df_tvshows['listed_in']).split(', ')\n",
    "\n",
    "# count distinct tv show genres and get the top 10\n",
    "counter_tvshows = Counter(gen_tvshows).most_common(10)"
   ]
  },
  {
   "cell_type": "markdown",
   "id": "875af59e",
   "metadata": {},
   "source": [
    "##### *Display the top 10 genres of TV shows*"
   ]
  },
  {
   "cell_type": "code",
   "execution_count": 25,
   "id": "a7f233f0",
   "metadata": {},
   "outputs": [
    {
     "name": "stdout",
     "output_type": "stream",
     "text": [
      "01: International TV Shows (1351)\n",
      "02: TV Dramas (763)\n",
      "03: TV Comedies (581)\n",
      "04: Crime TV Shows (470)\n",
      "05: Kids' TV (451)\n",
      "06: Docuseries (395)\n",
      "07: Romantic TV Shows (370)\n",
      "08: Reality TV (255)\n",
      "09: British TV Shows (253)\n",
      "10: Anime Series (176)\n"
     ]
    }
   ],
   "source": [
    "for i in range(10):\n",
    "    if i < 9:\n",
    "        print(f'0{i+1}: {counter_tvshows[i][0]} ({counter_tvshows[i][1]})')\n",
    "    else:\n",
    "        print(f'{i+1}: {counter_tvshows[i][0]} ({counter_tvshows[i][1]})')"
   ]
  },
  {
   "cell_type": "markdown",
   "id": "0a010681",
   "metadata": {},
   "source": [
    "### *Question 5: Show all the movies that were released in 2000* <a class='anchor' id='q5'></a>\n",
    "\n",
    "##### *Create a dataframe containing only movies that were released in 2000*"
   ]
  },
  {
   "cell_type": "code",
   "execution_count": 26,
   "id": "28d3638a",
   "metadata": {},
   "outputs": [],
   "source": [
    "movies = df_movies[df_movies['release_year'] == 2000]"
   ]
  },
  {
   "cell_type": "code",
   "execution_count": 27,
   "id": "d258f0a9",
   "metadata": {},
   "outputs": [
    {
     "data": {
      "text/html": [
       "<div>\n",
       "<style scoped>\n",
       "    .dataframe tbody tr th:only-of-type {\n",
       "        vertical-align: middle;\n",
       "    }\n",
       "\n",
       "    .dataframe tbody tr th {\n",
       "        vertical-align: top;\n",
       "    }\n",
       "\n",
       "    .dataframe thead th {\n",
       "        text-align: right;\n",
       "    }\n",
       "</style>\n",
       "<table border=\"1\" class=\"dataframe\">\n",
       "  <thead>\n",
       "    <tr style=\"text-align: right;\">\n",
       "      <th></th>\n",
       "      <th>show_id</th>\n",
       "      <th>type</th>\n",
       "      <th>title</th>\n",
       "      <th>director</th>\n",
       "      <th>cast</th>\n",
       "      <th>country</th>\n",
       "      <th>date_added</th>\n",
       "      <th>release_year</th>\n",
       "      <th>rating</th>\n",
       "      <th>duration</th>\n",
       "      <th>listed_in</th>\n",
       "      <th>description</th>\n",
       "    </tr>\n",
       "  </thead>\n",
       "  <tbody>\n",
       "    <tr>\n",
       "      <th>180</th>\n",
       "      <td>s181</td>\n",
       "      <td>Movie</td>\n",
       "      <td>The Nutty Professor II: The Klumps</td>\n",
       "      <td>Peter Segal</td>\n",
       "      <td>Eddie Murphy, Janet Jackson, Larry Miller, Joh...</td>\n",
       "      <td>NaN</td>\n",
       "      <td>September 1, 2021</td>\n",
       "      <td>2000</td>\n",
       "      <td>PG-13</td>\n",
       "      <td>107 min</td>\n",
       "      <td>Comedies, Romantic Movies</td>\n",
       "      <td>After getting engaged, Sherman Klump prepares ...</td>\n",
       "    </tr>\n",
       "    <tr>\n",
       "      <th>350</th>\n",
       "      <td>s351</td>\n",
       "      <td>Movie</td>\n",
       "      <td>Space Cowboys</td>\n",
       "      <td>Clint Eastwood</td>\n",
       "      <td>Clint Eastwood, Tommy Lee Jones, Donald Suther...</td>\n",
       "      <td>United States</td>\n",
       "      <td>August 1, 2021</td>\n",
       "      <td>2000</td>\n",
       "      <td>PG-13</td>\n",
       "      <td>130 min</td>\n",
       "      <td>Action &amp; Adventure, Dramas, Sci-Fi &amp; Fantasy</td>\n",
       "      <td>A retired engineer agrees to help NASA prevent...</td>\n",
       "    </tr>\n",
       "    <tr>\n",
       "      <th>359</th>\n",
       "      <td>s360</td>\n",
       "      <td>Movie</td>\n",
       "      <td>The Original Kings of Comedy</td>\n",
       "      <td>Spike Lee</td>\n",
       "      <td>Steve Harvey, D.L. Hughley, Cedric the Enterta...</td>\n",
       "      <td>United States</td>\n",
       "      <td>August 1, 2021</td>\n",
       "      <td>2000</td>\n",
       "      <td>R</td>\n",
       "      <td>111 min</td>\n",
       "      <td>Stand-Up Comedy</td>\n",
       "      <td>Comedians Steve Harvey, Cedric the Entertainer...</td>\n",
       "    </tr>\n",
       "  </tbody>\n",
       "</table>\n",
       "</div>"
      ],
      "text/plain": [
       "    show_id   type                               title        director  \\\n",
       "180    s181  Movie  The Nutty Professor II: The Klumps     Peter Segal   \n",
       "350    s351  Movie                       Space Cowboys  Clint Eastwood   \n",
       "359    s360  Movie        The Original Kings of Comedy       Spike Lee   \n",
       "\n",
       "                                                  cast        country  \\\n",
       "180  Eddie Murphy, Janet Jackson, Larry Miller, Joh...            NaN   \n",
       "350  Clint Eastwood, Tommy Lee Jones, Donald Suther...  United States   \n",
       "359  Steve Harvey, D.L. Hughley, Cedric the Enterta...  United States   \n",
       "\n",
       "            date_added  release_year rating duration  \\\n",
       "180  September 1, 2021          2000  PG-13  107 min   \n",
       "350     August 1, 2021          2000  PG-13  130 min   \n",
       "359     August 1, 2021          2000      R  111 min   \n",
       "\n",
       "                                        listed_in  \\\n",
       "180                     Comedies, Romantic Movies   \n",
       "350  Action & Adventure, Dramas, Sci-Fi & Fantasy   \n",
       "359                               Stand-Up Comedy   \n",
       "\n",
       "                                           description  \n",
       "180  After getting engaged, Sherman Klump prepares ...  \n",
       "350  A retired engineer agrees to help NASA prevent...  \n",
       "359  Comedians Steve Harvey, Cedric the Entertainer...  "
      ]
     },
     "execution_count": 27,
     "metadata": {},
     "output_type": "execute_result"
    }
   ],
   "source": [
    "movies.head(3)"
   ]
  },
  {
   "cell_type": "markdown",
   "id": "ac0b1caf",
   "metadata": {},
   "source": [
    "##### *Display the movies*"
   ]
  },
  {
   "cell_type": "code",
   "execution_count": 28,
   "id": "e04f6aec",
   "metadata": {
    "scrolled": false
   },
   "outputs": [
    {
     "name": "stdout",
     "output_type": "stream",
     "text": [
      "01: The Nutty Professor II: The Klumps\n",
      "02: Space Cowboys\n",
      "03: The Original Kings of Comedy\n",
      "04: Charlie's Angels\n",
      "05: Snow Day\n",
      "06: Battlefield Earth\n",
      "07: The Whole Nine Yards\n",
      "08: Rugrats in Paris: The Movie\n",
      "09: Monty Python: Before the Flying Circus\n",
      "10: Fiza\n",
      "11: Phir Bhi Dil Hai Hindustani\n",
      "12: Joseph: King of Dreams\n",
      "13: 28 Days\n",
      "14: American Psycho\n",
      "15: An American Tail: The Treasures of Manhattan Island\n",
      "16: Billy Elliot\n",
      "17: Center Stage\n",
      "18: Chal Mere Bhai\n",
      "19: Crouching Tiger, Hidden Dragon\n",
      "20: Dragonheart: A New Beginning\n",
      "21: Final Destination\n",
      "22: Hamara Dil Aapke Paas Hai\n",
      "23: How the Grinch Stole Christmas\n",
      "24: Kya Kehna\n",
      "25: Little Nicky\n",
      "26: Papa the Great\n",
      "27: Pukar\n",
      "28: Scary Movie\n",
      "29: Scream 3\n",
      "30: The Art of War\n",
      "31: The Flintstones in Viva Rock Vegas\n",
      "32: What Lies Beneath\n",
      "33: Where the Money Is\n"
     ]
    }
   ],
   "source": [
    "for i, title in enumerate(movies['title']):\n",
    "    if i < 9:\n",
    "        print(f'0{i+1}: {title}')\n",
    "    else:\n",
    "        print(f'{i+1}: {title}')"
   ]
  },
  {
   "cell_type": "markdown",
   "id": "54cdbaed",
   "metadata": {},
   "source": [
    "### *Question 6: What are the top 10 countries with most content?* <a class='anchor' id='q6'></a>\n",
    "\n",
    "- Group movies and TV shows by country\n",
    "- Count the number of movies and TV shows for each country\n",
    "- Sort the countries in descending order based on their number of movies and TV shows\n",
    "- Get the top 10 countries with most content\n",
    "\n",
    "##### *Group movies and TV shows by country, get the count for each country, sort them and get the top 10 countries with most content*"
   ]
  },
  {
   "cell_type": "code",
   "execution_count": 29,
   "id": "9baf982c",
   "metadata": {},
   "outputs": [],
   "source": [
    "most_content = df.groupby('country')['show_id'].count().sort_values(ascending=True)[-10:]"
   ]
  },
  {
   "cell_type": "markdown",
   "id": "cf2cfc3c",
   "metadata": {},
   "source": [
    "##### *Plot the countries with most content*"
   ]
  },
  {
   "cell_type": "code",
   "execution_count": 30,
   "id": "5a066935",
   "metadata": {},
   "outputs": [
    {
     "data": {
      "image/png": "[encoded data removed]",
      "text/plain": [
       "<Figure size 1200x400 with 1 Axes>"
      ]
     },
     "metadata": {},
     "output_type": "display_data"
    }
   ],
   "source": [
    "plt.figure(figsize=(12,4), dpi=100, facecolor='white')\n",
    "sns.barplot(x=most_content.index, y=most_content.values)\n",
    "plt.xlabel(None)\n",
    "plt.ylabel(None)\n",
    "plt.title('Countries with most content')\n",
    "plt.savefig('./images/countries_with_most_content.svg')\n",
    "plt.show()"
   ]
  },
  {
   "cell_type": "markdown",
   "id": "badbddd0",
   "metadata": {},
   "source": [
    "### *Question 7: Show all the TV shows that were released in any nordic country* <a class='anchor' id='q7'></a>\n",
    "\n",
    "##### *Define nordic countries*"
   ]
  },
  {
   "cell_type": "code",
   "execution_count": 31,
   "id": "cec00c79",
   "metadata": {},
   "outputs": [],
   "source": [
    "nordic_countries = ['Denmark', 'Finland', 'Iceland', 'Norway', 'Sweden']"
   ]
  },
  {
   "cell_type": "markdown",
   "id": "f375879e",
   "metadata": {},
   "source": [
    "##### *Create a dataframe containing only TV shows that were released in any nordic country*"
   ]
  },
  {
   "cell_type": "code",
   "execution_count": 32,
   "id": "31b0864f",
   "metadata": {},
   "outputs": [],
   "source": [
    "tv_shows = df_tvshows[df_tvshows['country'].isin(nordic_countries)]"
   ]
  },
  {
   "cell_type": "code",
   "execution_count": 33,
   "id": "fac64fdb",
   "metadata": {},
   "outputs": [
    {
     "data": {
      "text/html": [
       "<div>\n",
       "<style scoped>\n",
       "    .dataframe tbody tr th:only-of-type {\n",
       "        vertical-align: middle;\n",
       "    }\n",
       "\n",
       "    .dataframe tbody tr th {\n",
       "        vertical-align: top;\n",
       "    }\n",
       "\n",
       "    .dataframe thead th {\n",
       "        text-align: right;\n",
       "    }\n",
       "</style>\n",
       "<table border=\"1\" class=\"dataframe\">\n",
       "  <thead>\n",
       "    <tr style=\"text-align: right;\">\n",
       "      <th></th>\n",
       "      <th>show_id</th>\n",
       "      <th>type</th>\n",
       "      <th>title</th>\n",
       "      <th>director</th>\n",
       "      <th>cast</th>\n",
       "      <th>country</th>\n",
       "      <th>date_added</th>\n",
       "      <th>release_year</th>\n",
       "      <th>rating</th>\n",
       "      <th>duration</th>\n",
       "      <th>listed_in</th>\n",
       "      <th>description</th>\n",
       "    </tr>\n",
       "  </thead>\n",
       "  <tbody>\n",
       "    <tr>\n",
       "      <th>37</th>\n",
       "      <td>s38</td>\n",
       "      <td>TV Show</td>\n",
       "      <td>Angry Birds</td>\n",
       "      <td>NaN</td>\n",
       "      <td>Antti Pääkkönen, Heljä Heikkinen, Lynne Guagli...</td>\n",
       "      <td>Finland</td>\n",
       "      <td>September 16, 2021</td>\n",
       "      <td>2018</td>\n",
       "      <td>TV-Y7</td>\n",
       "      <td>1 Season</td>\n",
       "      <td>Kids' TV, TV Comedies</td>\n",
       "      <td>Birds Red, Chuck and their feathered friends h...</td>\n",
       "    </tr>\n",
       "    <tr>\n",
       "      <th>617</th>\n",
       "      <td>s618</td>\n",
       "      <td>TV Show</td>\n",
       "      <td>Young Royals</td>\n",
       "      <td>NaN</td>\n",
       "      <td>Edvin Ryding, Omar Rudberg, Malte Gårdinger, F...</td>\n",
       "      <td>Sweden</td>\n",
       "      <td>July 1, 2021</td>\n",
       "      <td>2021</td>\n",
       "      <td>TV-MA</td>\n",
       "      <td>1 Season</td>\n",
       "      <td>International TV Shows, Romantic TV Shows, TV ...</td>\n",
       "      <td>Prince Wilhelm adjusts to life at his prestigi...</td>\n",
       "    </tr>\n",
       "    <tr>\n",
       "      <th>699</th>\n",
       "      <td>s700</td>\n",
       "      <td>TV Show</td>\n",
       "      <td>Katla</td>\n",
       "      <td>NaN</td>\n",
       "      <td>Guðrún Eyfjörð, Íris Tanja Flygenring, Aliette...</td>\n",
       "      <td>Iceland</td>\n",
       "      <td>June 17, 2021</td>\n",
       "      <td>2021</td>\n",
       "      <td>TV-MA</td>\n",
       "      <td>1 Season</td>\n",
       "      <td>International TV Shows, TV Dramas, TV Mysteries</td>\n",
       "      <td>The catastrophic eruption of subglacial volcan...</td>\n",
       "    </tr>\n",
       "  </tbody>\n",
       "</table>\n",
       "</div>"
      ],
      "text/plain": [
       "    show_id     type         title director  \\\n",
       "37      s38  TV Show   Angry Birds      NaN   \n",
       "617    s618  TV Show  Young Royals      NaN   \n",
       "699    s700  TV Show         Katla      NaN   \n",
       "\n",
       "                                                  cast  country  \\\n",
       "37   Antti Pääkkönen, Heljä Heikkinen, Lynne Guagli...  Finland   \n",
       "617  Edvin Ryding, Omar Rudberg, Malte Gårdinger, F...   Sweden   \n",
       "699  Guðrún Eyfjörð, Íris Tanja Flygenring, Aliette...  Iceland   \n",
       "\n",
       "             date_added  release_year rating  duration  \\\n",
       "37   September 16, 2021          2018  TV-Y7  1 Season   \n",
       "617        July 1, 2021          2021  TV-MA  1 Season   \n",
       "699       June 17, 2021          2021  TV-MA  1 Season   \n",
       "\n",
       "                                             listed_in  \\\n",
       "37                               Kids' TV, TV Comedies   \n",
       "617  International TV Shows, Romantic TV Shows, TV ...   \n",
       "699    International TV Shows, TV Dramas, TV Mysteries   \n",
       "\n",
       "                                           description  \n",
       "37   Birds Red, Chuck and their feathered friends h...  \n",
       "617  Prince Wilhelm adjusts to life at his prestigi...  \n",
       "699  The catastrophic eruption of subglacial volcan...  "
      ]
     },
     "execution_count": 33,
     "metadata": {},
     "output_type": "execute_result"
    }
   ],
   "source": [
    "tv_shows.head(3)"
   ]
  },
  {
   "cell_type": "markdown",
   "id": "6d35e91a",
   "metadata": {},
   "source": [
    "##### *Display the TV shows*"
   ]
  },
  {
   "cell_type": "code",
   "execution_count": 34,
   "id": "e8f94bb3",
   "metadata": {},
   "outputs": [
    {
     "name": "stdout",
     "output_type": "stream",
     "text": [
      "01: Angry Birds (Finland)\n",
      "02: Young Royals (Sweden)\n",
      "03: Katla (Iceland)\n",
      "04: LEGO Friends: The Power of Friendship (Denmark)\n",
      "05: Home for Christmas (Norway)\n",
      "06: Love & Anarchy (Sweden)\n",
      "07: Borgen (Denmark)\n",
      "08: Rita (Denmark)\n",
      "09: Norsemen (Norway)\n",
      "10: Caliphate (Sweden)\n",
      "11: Bloodride (Norway)\n",
      "12: The Valhalla Murders (Iceland)\n",
      "13: Bonus Family (Sweden)\n",
      "14: Quicksand (Sweden)\n",
      "15: Hjørdis (Denmark)\n",
      "16: Warrior (Denmark)\n",
      "17: Fallet (Sweden)\n",
      "18: The Day Will Come (Denmark)\n",
      "19: Case (Iceland)\n",
      "20: Gentlemen and Gangsters (Sweden)\n",
      "21: Herrens veje (Denmark)\n",
      "22: Lego Friends: Girls on a Mission (Denmark)\n",
      "23: Nobel (Norway)\n",
      "24: The Future of Water (Norway)\n",
      "25: The Most Beautiful Hands of Delhi (Sweden)\n"
     ]
    }
   ],
   "source": [
    "for i, title in enumerate(tv_shows['title']):\n",
    "    if i < 9:\n",
    "        print(f'0{i+1}: {title} ({tv_shows.iloc[i,5]})')\n",
    "    else:\n",
    "        print(f'{i+1}: {title} ({tv_shows.iloc[i,5]})')"
   ]
  },
  {
   "cell_type": "markdown",
   "id": "ef707bb1",
   "metadata": {},
   "source": [
    "### *Question 8: Show the top 10 directors with most movies and TV shows in Netflix* <a class='anchor' id='q8'></a>\n",
    "\n",
    "- Get the number of movies and TV shows for each director using `.value_counts()`\n",
    "- Get the top 10 directors by calling `.head(10)`\n",
    "\n",
    "##### *Get the number of movies and TV shows for each director and display the top 10 with most content*"
   ]
  },
  {
   "cell_type": "code",
   "execution_count": 35,
   "id": "5f85834b",
   "metadata": {},
   "outputs": [
    {
     "data": {
      "text/plain": [
       "Rajiv Chilaka             19\n",
       "Raúl Campos, Jan Suter    18\n",
       "Marcus Raboy              16\n",
       "Suhas Kadav               16\n",
       "Jay Karas                 14\n",
       "Cathy Garcia-Molina       13\n",
       "Youssef Chahine           12\n",
       "Jay Chapman               12\n",
       "Martin Scorsese           12\n",
       "Steven Spielberg          11\n",
       "Name: director, dtype: int64"
      ]
     },
     "execution_count": 35,
     "metadata": {},
     "output_type": "execute_result"
    }
   ],
   "source": [
    "df['director'].value_counts().head(10)"
   ]
  },
  {
   "cell_type": "markdown",
   "id": "c0bbd129",
   "metadata": {},
   "source": [
    "### *Question 9: Show all comedy movies starring either Jim Carrey or Jackie Chan* <a class='anchor' id='q9'></a>\n",
    "\n",
    "- Define the required conditions for our analysis\n",
    "- Create a dataframe based on the predefined conditions\n",
    "\n",
    "##### *Define the required conditions*"
   ]
  },
  {
   "cell_type": "code",
   "execution_count": 36,
   "id": "dca47287",
   "metadata": {},
   "outputs": [],
   "source": [
    "# cast column to not be be null\n",
    "not_null = df_movies['cast'].notnull()\n",
    "\n",
    "# filter only comedy movies\n",
    "comedies = df_movies['listed_in'].str.contains('Comedies')\n",
    "\n",
    "# Jackie Chan to be in the cast\n",
    "jackie_c = df_movies['cast'].str.contains('Jackie Chan')\n",
    "\n",
    "# Jim Carrey to be in the cast\n",
    "jim_carr = df_movies['cast'].str.contains('Jim Carrey')"
   ]
  },
  {
   "cell_type": "markdown",
   "id": "7d41cb01",
   "metadata": {},
   "source": [
    "##### *Create a dataframe based on the predefined conditions*"
   ]
  },
  {
   "cell_type": "code",
   "execution_count": 37,
   "id": "7a3ed27e",
   "metadata": {},
   "outputs": [],
   "source": [
    "movies = df_movies[not_null & comedies & (jackie_c | jim_carr)]"
   ]
  },
  {
   "cell_type": "code",
   "execution_count": 38,
   "id": "5e81f599",
   "metadata": {},
   "outputs": [
    {
     "data": {
      "text/html": [
       "<div>\n",
       "<style scoped>\n",
       "    .dataframe tbody tr th:only-of-type {\n",
       "        vertical-align: middle;\n",
       "    }\n",
       "\n",
       "    .dataframe tbody tr th {\n",
       "        vertical-align: top;\n",
       "    }\n",
       "\n",
       "    .dataframe thead th {\n",
       "        text-align: right;\n",
       "    }\n",
       "</style>\n",
       "<table border=\"1\" class=\"dataframe\">\n",
       "  <thead>\n",
       "    <tr style=\"text-align: right;\">\n",
       "      <th></th>\n",
       "      <th>show_id</th>\n",
       "      <th>type</th>\n",
       "      <th>title</th>\n",
       "      <th>director</th>\n",
       "      <th>cast</th>\n",
       "      <th>country</th>\n",
       "      <th>date_added</th>\n",
       "      <th>release_year</th>\n",
       "      <th>rating</th>\n",
       "      <th>duration</th>\n",
       "      <th>listed_in</th>\n",
       "      <th>description</th>\n",
       "    </tr>\n",
       "  </thead>\n",
       "  <tbody>\n",
       "    <tr>\n",
       "      <th>573</th>\n",
       "      <td>s574</td>\n",
       "      <td>Movie</td>\n",
       "      <td>Kung Fu Panda</td>\n",
       "      <td>John Stevenson, Mark Osborne</td>\n",
       "      <td>Jack Black, Dustin Hoffman, Angelina Jolie, Ia...</td>\n",
       "      <td>United States, China</td>\n",
       "      <td>July 1, 2021</td>\n",
       "      <td>2008</td>\n",
       "      <td>PG</td>\n",
       "      <td>94 min</td>\n",
       "      <td>Children &amp; Family Movies, Comedies</td>\n",
       "      <td>When a powerful villain comes after peace in h...</td>\n",
       "    </tr>\n",
       "    <tr>\n",
       "      <th>574</th>\n",
       "      <td>s575</td>\n",
       "      <td>Movie</td>\n",
       "      <td>Kung Fu Panda 2</td>\n",
       "      <td>Jennifer Yuh Nelson</td>\n",
       "      <td>Jack Black, Angelina Jolie, Dustin Hoffman, Ga...</td>\n",
       "      <td>United States, China</td>\n",
       "      <td>July 1, 2021</td>\n",
       "      <td>2011</td>\n",
       "      <td>PG</td>\n",
       "      <td>93 min</td>\n",
       "      <td>Children &amp; Family Movies, Comedies</td>\n",
       "      <td>With his fists up and belly full, Po embarks o...</td>\n",
       "    </tr>\n",
       "    <tr>\n",
       "      <th>931</th>\n",
       "      <td>s932</td>\n",
       "      <td>Movie</td>\n",
       "      <td>Fun with Dick &amp; Jane</td>\n",
       "      <td>Dean Parisot</td>\n",
       "      <td>Jim Carrey, Téa Leoni, Alec Baldwin, Richard J...</td>\n",
       "      <td>United States</td>\n",
       "      <td>May 1, 2021</td>\n",
       "      <td>2005</td>\n",
       "      <td>PG-13</td>\n",
       "      <td>91 min</td>\n",
       "      <td>Comedies</td>\n",
       "      <td>After losing their high-paying corporate jobs,...</td>\n",
       "    </tr>\n",
       "  </tbody>\n",
       "</table>\n",
       "</div>"
      ],
      "text/plain": [
       "    show_id   type                 title                      director  \\\n",
       "573    s574  Movie         Kung Fu Panda  John Stevenson, Mark Osborne   \n",
       "574    s575  Movie       Kung Fu Panda 2           Jennifer Yuh Nelson   \n",
       "931    s932  Movie  Fun with Dick & Jane                  Dean Parisot   \n",
       "\n",
       "                                                  cast               country  \\\n",
       "573  Jack Black, Dustin Hoffman, Angelina Jolie, Ia...  United States, China   \n",
       "574  Jack Black, Angelina Jolie, Dustin Hoffman, Ga...  United States, China   \n",
       "931  Jim Carrey, Téa Leoni, Alec Baldwin, Richard J...         United States   \n",
       "\n",
       "       date_added  release_year rating duration  \\\n",
       "573  July 1, 2021          2008     PG   94 min   \n",
       "574  July 1, 2021          2011     PG   93 min   \n",
       "931   May 1, 2021          2005  PG-13   91 min   \n",
       "\n",
       "                              listed_in  \\\n",
       "573  Children & Family Movies, Comedies   \n",
       "574  Children & Family Movies, Comedies   \n",
       "931                            Comedies   \n",
       "\n",
       "                                           description  \n",
       "573  When a powerful villain comes after peace in h...  \n",
       "574  With his fists up and belly full, Po embarks o...  \n",
       "931  After losing their high-paying corporate jobs,...  "
      ]
     },
     "execution_count": 38,
     "metadata": {},
     "output_type": "execute_result"
    }
   ],
   "source": [
    "movies.head(3)"
   ]
  },
  {
   "cell_type": "markdown",
   "id": "ddbd3f99",
   "metadata": {},
   "source": [
    "##### *Display the movies*"
   ]
  },
  {
   "cell_type": "code",
   "execution_count": 39,
   "id": "2b2175b6",
   "metadata": {
    "scrolled": true
   },
   "outputs": [
    {
     "name": "stdout",
     "output_type": "stream",
     "text": [
      "01: Kung Fu Panda (Jackie Chan)\n",
      "02: Kung Fu Panda 2 (Jackie Chan)\n",
      "03: Fun with Dick & Jane (Jim Carrey)\n",
      "04: Yes Man (Jim Carrey)\n",
      "05: The Twins Effect II (Jackie Chan)\n",
      "06: How the Grinch Stole Christmas (Jim Carrey)\n",
      "07: Kung Fu Panda: Holiday (Jackie Chan)\n",
      "08: Kung Fu Yoga (Jackie Chan)\n",
      "09: Railroad Tigers (Jackie Chan)\n",
      "10: Rumble in the Bronx (Jackie Chan)\n",
      "11: Skiptrace (Jackie Chan)\n",
      "12: The Spy Next Door (Jackie Chan)\n",
      "13: The Tuxedo (Jackie Chan)\n"
     ]
    }
   ],
   "source": [
    "for i, title in enumerate(movies['title']):\n",
    "    if i < 9:\n",
    "        print(f'0{i+1}: {title} ({\"Jackie Chan\" if \"Jackie Chan\" in movies.iloc[i,4] else \"Jim Carrey\"})')\n",
    "    else:\n",
    "        print(f'{i+1}: {title} ({\"Jackie Chan\" if \"Jackie Chan\" in movies.iloc[i,4] else \"Jim Carrey\"})')"
   ]
  },
  {
   "cell_type": "markdown",
   "id": "350377fa",
   "metadata": {},
   "source": [
    "### *Question 10: What are the different maturity ratings for movies and TV shows?* <a class='anchor' id='q10'></a>\n",
    "\n",
    "##### *Display the different maturity ratings*"
   ]
  },
  {
   "cell_type": "code",
   "execution_count": 40,
   "id": "5910860d",
   "metadata": {},
   "outputs": [
    {
     "name": "stdout",
     "output_type": "stream",
     "text": [
      "There are 14 different maturity ratings.\n",
      "\n",
      "['PG-13', 'TV-MA', 'PG', 'TV-14', 'TV-PG', 'TV-Y', 'TV-Y7', 'R', 'TV-G', 'G', 'NC-17', 'NR', nan, 'TV-Y7-FV', 'UR']\n"
     ]
    }
   ],
   "source": [
    "# number of unique ratings\n",
    "print(f'There are {df[\"rating\"].nunique()} different maturity ratings.', end='\\n\\n')\n",
    "\n",
    "# different ratings\n",
    "print([rating for rating in df['rating'].unique()])"
   ]
  },
  {
   "cell_type": "markdown",
   "id": "de62ef4b",
   "metadata": {},
   "source": [
    "##### *Plot the maturity ratings*"
   ]
  },
  {
   "cell_type": "code",
   "execution_count": 41,
   "id": "582278fb",
   "metadata": {},
   "outputs": [
    {
     "data": {
      "image/png": "[encoded data removed]",
      "text/plain": [
       "<Figure size 1200x400 with 1 Axes>"
      ]
     },
     "metadata": {},
     "output_type": "display_data"
    }
   ],
   "source": [
    "plt.figure(figsize=(12,4), dpi=100, facecolor='white')\n",
    "sns.countplot(data=df, x='rating', order=df['rating'].value_counts().sort_values(ascending=True).index[0:15])\n",
    "plt.xlabel(None)\n",
    "plt.ylabel(None)\n",
    "plt.title('Number of movies and TV shows under each maturity rating')\n",
    "plt.savefig('./images/maturity_ratings.svg')\n",
    "plt.show()"
   ]
  },
  {
   "cell_type": "markdown",
   "id": "bb29592b",
   "metadata": {},
   "source": [
    "<p style='text-align: justify;'>\n",
    "Most movies have the \"TV-MA\" rating. This is a rating assigned by the <i>TV Parental Guidelines</i> to television programmes designed for mature audiences only. Next in line is the \"TV-14\" rating, which represents programmes with content that may be unsuitable for children under 14. Third is the \"TV-PG\" rating, which represents programmes with content that may contain some material that parents may consider inappropriate for younger children, such as rare coarse language, some sexual content or moderate violence.\n",
    "</p>"
   ]
  },
  {
   "cell_type": "markdown",
   "id": "a12b53a0",
   "metadata": {},
   "source": [
    "### *Question 11: What is the duration of the longest movie?* <a class='anchor' id='q11'></a>\n",
    "\n",
    "- Extract information from `duration` column and create two new columns, `minutes` and `unit` (of measure)\n",
    "- Convert `minutes` column to numeric\n",
    "\n",
    "##### *Create the columns `minutes` and `unit` (of measure)*"
   ]
  },
  {
   "cell_type": "code",
   "execution_count": 42,
   "id": "bbacb81b",
   "metadata": {},
   "outputs": [],
   "source": [
    "df_movies[['minutes', 'unit']] = df_movies['duration'].str.split(' ', expand=True)"
   ]
  },
  {
   "cell_type": "markdown",
   "id": "f0a7831e",
   "metadata": {},
   "source": [
    "##### *Convert `minutes` column to numeric*"
   ]
  },
  {
   "cell_type": "code",
   "execution_count": 43,
   "id": "c6525c2e",
   "metadata": {},
   "outputs": [],
   "source": [
    "df_movies['minutes'] = pd.to_numeric(df_movies['minutes'])"
   ]
  },
  {
   "cell_type": "code",
   "execution_count": 44,
   "id": "47ffc557",
   "metadata": {},
   "outputs": [
    {
     "data": {
      "text/html": [
       "<div>\n",
       "<style scoped>\n",
       "    .dataframe tbody tr th:only-of-type {\n",
       "        vertical-align: middle;\n",
       "    }\n",
       "\n",
       "    .dataframe tbody tr th {\n",
       "        vertical-align: top;\n",
       "    }\n",
       "\n",
       "    .dataframe thead th {\n",
       "        text-align: right;\n",
       "    }\n",
       "</style>\n",
       "<table border=\"1\" class=\"dataframe\">\n",
       "  <thead>\n",
       "    <tr style=\"text-align: right;\">\n",
       "      <th></th>\n",
       "      <th>show_id</th>\n",
       "      <th>type</th>\n",
       "      <th>title</th>\n",
       "      <th>director</th>\n",
       "      <th>cast</th>\n",
       "      <th>country</th>\n",
       "      <th>date_added</th>\n",
       "      <th>release_year</th>\n",
       "      <th>rating</th>\n",
       "      <th>duration</th>\n",
       "      <th>listed_in</th>\n",
       "      <th>description</th>\n",
       "      <th>minutes</th>\n",
       "      <th>unit</th>\n",
       "    </tr>\n",
       "  </thead>\n",
       "  <tbody>\n",
       "    <tr>\n",
       "      <th>0</th>\n",
       "      <td>s1</td>\n",
       "      <td>Movie</td>\n",
       "      <td>Dick Johnson Is Dead</td>\n",
       "      <td>Kirsten Johnson</td>\n",
       "      <td>NaN</td>\n",
       "      <td>United States</td>\n",
       "      <td>September 25, 2021</td>\n",
       "      <td>2020</td>\n",
       "      <td>PG-13</td>\n",
       "      <td>90 min</td>\n",
       "      <td>Documentaries</td>\n",
       "      <td>As her father nears the end of his life, filmm...</td>\n",
       "      <td>90</td>\n",
       "      <td>min</td>\n",
       "    </tr>\n",
       "    <tr>\n",
       "      <th>6</th>\n",
       "      <td>s7</td>\n",
       "      <td>Movie</td>\n",
       "      <td>My Little Pony: A New Generation</td>\n",
       "      <td>Robert Cullen, José Luis Ucha</td>\n",
       "      <td>Vanessa Hudgens, Kimiko Glenn, James Marsden, ...</td>\n",
       "      <td>NaN</td>\n",
       "      <td>September 24, 2021</td>\n",
       "      <td>2021</td>\n",
       "      <td>PG</td>\n",
       "      <td>91 min</td>\n",
       "      <td>Children &amp; Family Movies</td>\n",
       "      <td>Equestria's divided. But a bright-eyed hero be...</td>\n",
       "      <td>91</td>\n",
       "      <td>min</td>\n",
       "    </tr>\n",
       "    <tr>\n",
       "      <th>7</th>\n",
       "      <td>s8</td>\n",
       "      <td>Movie</td>\n",
       "      <td>Sankofa</td>\n",
       "      <td>Haile Gerima</td>\n",
       "      <td>Kofi Ghanaba, Oyafunmike Ogunlano, Alexandra D...</td>\n",
       "      <td>United States, Ghana, Burkina Faso, United Kin...</td>\n",
       "      <td>September 24, 2021</td>\n",
       "      <td>1993</td>\n",
       "      <td>TV-MA</td>\n",
       "      <td>125 min</td>\n",
       "      <td>Dramas, Independent Movies, International Movies</td>\n",
       "      <td>On a photo shoot in Ghana, an American model s...</td>\n",
       "      <td>125</td>\n",
       "      <td>min</td>\n",
       "    </tr>\n",
       "  </tbody>\n",
       "</table>\n",
       "</div>"
      ],
      "text/plain": [
       "  show_id   type                             title  \\\n",
       "0      s1  Movie              Dick Johnson Is Dead   \n",
       "6      s7  Movie  My Little Pony: A New Generation   \n",
       "7      s8  Movie                           Sankofa   \n",
       "\n",
       "                        director  \\\n",
       "0                Kirsten Johnson   \n",
       "6  Robert Cullen, José Luis Ucha   \n",
       "7                   Haile Gerima   \n",
       "\n",
       "                                                cast  \\\n",
       "0                                                NaN   \n",
       "6  Vanessa Hudgens, Kimiko Glenn, James Marsden, ...   \n",
       "7  Kofi Ghanaba, Oyafunmike Ogunlano, Alexandra D...   \n",
       "\n",
       "                                             country          date_added  \\\n",
       "0                                      United States  September 25, 2021   \n",
       "6                                                NaN  September 24, 2021   \n",
       "7  United States, Ghana, Burkina Faso, United Kin...  September 24, 2021   \n",
       "\n",
       "   release_year rating duration  \\\n",
       "0          2020  PG-13   90 min   \n",
       "6          2021     PG   91 min   \n",
       "7          1993  TV-MA  125 min   \n",
       "\n",
       "                                          listed_in  \\\n",
       "0                                     Documentaries   \n",
       "6                          Children & Family Movies   \n",
       "7  Dramas, Independent Movies, International Movies   \n",
       "\n",
       "                                         description  minutes unit  \n",
       "0  As her father nears the end of his life, filmm...       90  min  \n",
       "6  Equestria's divided. But a bright-eyed hero be...       91  min  \n",
       "7  On a photo shoot in Ghana, an American model s...      125  min  "
      ]
     },
     "execution_count": 44,
     "metadata": {},
     "output_type": "execute_result"
    }
   ],
   "source": [
    "df_movies.head(3)"
   ]
  },
  {
   "cell_type": "markdown",
   "id": "287ceb88",
   "metadata": {},
   "source": [
    "##### *Display the result*"
   ]
  },
  {
   "cell_type": "code",
   "execution_count": 45,
   "id": "e942f61b",
   "metadata": {},
   "outputs": [
    {
     "name": "stdout",
     "output_type": "stream",
     "text": [
      "The duration of the longest movie is 312 minutes.\n"
     ]
    }
   ],
   "source": [
    "print(f'The duration of the longest movie is {df_movies[\"minutes\"].max()} minutes.')"
   ]
  },
  {
   "cell_type": "markdown",
   "id": "3aea6398",
   "metadata": {},
   "source": [
    "### *Question 12: Show the top 5 longest movies* <a class='anchor' id='q12'></a>\n",
    "\n",
    "##### *Sort the dataframe by the `minutes` column in descending order*"
   ]
  },
  {
   "cell_type": "code",
   "execution_count": 46,
   "id": "1e502458",
   "metadata": {},
   "outputs": [],
   "source": [
    "df_movies = df_movies.sort_values(by='minutes', ascending=False)"
   ]
  },
  {
   "cell_type": "markdown",
   "id": "2cd99e92",
   "metadata": {},
   "source": [
    "##### *Display the movies*"
   ]
  },
  {
   "cell_type": "code",
   "execution_count": 47,
   "id": "5d5389a0",
   "metadata": {
    "scrolled": true
   },
   "outputs": [
    {
     "name": "stdout",
     "output_type": "stream",
     "text": [
      "1: Black Mirror: Bandersnatch (312 min.)\n",
      "2: Headspace: Unwind Your Mind (273 min.)\n",
      "3: The School of Mischief (253 min.)\n",
      "4: No Longer kids (237 min.)\n",
      "5: Lock Your Girls In (233 min.)\n"
     ]
    }
   ],
   "source": [
    "for i in range(5):\n",
    "    print(f'{i+1}: {df_movies.iloc[i, 2]} ({df_movies.iloc[i, 12]} min.)')"
   ]
  },
  {
   "cell_type": "markdown",
   "id": "4dc82eac",
   "metadata": {},
   "source": [
    "### *Question 13: What is the average movie duration?* <a class='anchor' id='q13'></a>\n",
    "\n",
    "##### *Display the average movie duration*"
   ]
  },
  {
   "cell_type": "code",
   "execution_count": 48,
   "id": "375cf0a9",
   "metadata": {},
   "outputs": [
    {
     "name": "stdout",
     "output_type": "stream",
     "text": [
      "The average duration of a movie is 99 minutes.\n"
     ]
    }
   ],
   "source": [
    "print(f'The average duration of a movie is {int(df_movies[\"minutes\"].mean())} minutes.')"
   ]
  },
  {
   "cell_type": "markdown",
   "id": "483df602",
   "metadata": {},
   "source": [
    "##### *Plot the movie duration distribution*"
   ]
  },
  {
   "cell_type": "code",
   "execution_count": 49,
   "id": "8af6a8c3",
   "metadata": {},
   "outputs": [
    {
     "data": {
      "image/png": "[encoded data removed]",
      "text/plain": [
       "<Figure size 1200x400 with 1 Axes>"
      ]
     },
     "metadata": {},
     "output_type": "display_data"
    }
   ],
   "source": [
    "plt.figure(figsize=(12,4), dpi=100, facecolor='white')\n",
    "sns.kdeplot(data=df_movies['minutes'], shade=True)\n",
    "plt.xlabel(None)\n",
    "plt.ylabel(None)\n",
    "plt.yticks([])\n",
    "plt.title('Distribution of movie duration (in minutes)')\n",
    "plt.savefig('./images/movie_duration_distribution.svg')\n",
    "plt.show()"
   ]
  },
  {
   "cell_type": "markdown",
   "id": "86543699",
   "metadata": {},
   "source": [
    "### *Question 14: What are the TV shows released between 2010-2015 with at least 5 seasons?* <a class='anchor' id='q14'></a>\n",
    "\n",
    "- Extract information from `duration` column and create a new column `seasons`\n",
    "- Convert `seasons` column to numeric\n",
    "- Define the required conditions for our analysis\n",
    "- Create a dataframe based on the predefined conditions\n",
    "\n",
    "##### *Create `seasons` column*"
   ]
  },
  {
   "cell_type": "code",
   "execution_count": 50,
   "id": "6b292f79",
   "metadata": {},
   "outputs": [],
   "source": [
    "df_tvshows['seasons'] = df_tvshows['duration'].apply(lambda x: x.split(' ')[0])"
   ]
  },
  {
   "cell_type": "markdown",
   "id": "1d205333",
   "metadata": {},
   "source": [
    "##### *Convert `seasons` column to numeric*"
   ]
  },
  {
   "cell_type": "code",
   "execution_count": 51,
   "id": "f6a252ee",
   "metadata": {},
   "outputs": [],
   "source": [
    "df_tvshows['seasons'] = pd.to_numeric(df_tvshows['seasons'])"
   ]
  },
  {
   "cell_type": "code",
   "execution_count": 52,
   "id": "69e0f0d7",
   "metadata": {},
   "outputs": [
    {
     "data": {
      "text/html": [
       "<div>\n",
       "<style scoped>\n",
       "    .dataframe tbody tr th:only-of-type {\n",
       "        vertical-align: middle;\n",
       "    }\n",
       "\n",
       "    .dataframe tbody tr th {\n",
       "        vertical-align: top;\n",
       "    }\n",
       "\n",
       "    .dataframe thead th {\n",
       "        text-align: right;\n",
       "    }\n",
       "</style>\n",
       "<table border=\"1\" class=\"dataframe\">\n",
       "  <thead>\n",
       "    <tr style=\"text-align: right;\">\n",
       "      <th></th>\n",
       "      <th>show_id</th>\n",
       "      <th>type</th>\n",
       "      <th>title</th>\n",
       "      <th>director</th>\n",
       "      <th>cast</th>\n",
       "      <th>country</th>\n",
       "      <th>date_added</th>\n",
       "      <th>release_year</th>\n",
       "      <th>rating</th>\n",
       "      <th>duration</th>\n",
       "      <th>listed_in</th>\n",
       "      <th>description</th>\n",
       "      <th>seasons</th>\n",
       "    </tr>\n",
       "  </thead>\n",
       "  <tbody>\n",
       "    <tr>\n",
       "      <th>1</th>\n",
       "      <td>s2</td>\n",
       "      <td>TV Show</td>\n",
       "      <td>Blood &amp; Water</td>\n",
       "      <td>NaN</td>\n",
       "      <td>Ama Qamata, Khosi Ngema, Gail Mabalane, Thaban...</td>\n",
       "      <td>South Africa</td>\n",
       "      <td>September 24, 2021</td>\n",
       "      <td>2021</td>\n",
       "      <td>TV-MA</td>\n",
       "      <td>2 Seasons</td>\n",
       "      <td>International TV Shows, TV Dramas, TV Mysteries</td>\n",
       "      <td>After crossing paths at a party, a Cape Town t...</td>\n",
       "      <td>2</td>\n",
       "    </tr>\n",
       "    <tr>\n",
       "      <th>2</th>\n",
       "      <td>s3</td>\n",
       "      <td>TV Show</td>\n",
       "      <td>Ganglands</td>\n",
       "      <td>Julien Leclercq</td>\n",
       "      <td>Sami Bouajila, Tracy Gotoas, Samuel Jouy, Nabi...</td>\n",
       "      <td>NaN</td>\n",
       "      <td>September 24, 2021</td>\n",
       "      <td>2021</td>\n",
       "      <td>TV-MA</td>\n",
       "      <td>1 Season</td>\n",
       "      <td>Crime TV Shows, International TV Shows, TV Act...</td>\n",
       "      <td>To protect his family from a powerful drug lor...</td>\n",
       "      <td>1</td>\n",
       "    </tr>\n",
       "    <tr>\n",
       "      <th>3</th>\n",
       "      <td>s4</td>\n",
       "      <td>TV Show</td>\n",
       "      <td>Jailbirds New Orleans</td>\n",
       "      <td>NaN</td>\n",
       "      <td>NaN</td>\n",
       "      <td>NaN</td>\n",
       "      <td>September 24, 2021</td>\n",
       "      <td>2021</td>\n",
       "      <td>TV-MA</td>\n",
       "      <td>1 Season</td>\n",
       "      <td>Docuseries, Reality TV</td>\n",
       "      <td>Feuds, flirtations and toilet talk go down amo...</td>\n",
       "      <td>1</td>\n",
       "    </tr>\n",
       "  </tbody>\n",
       "</table>\n",
       "</div>"
      ],
      "text/plain": [
       "  show_id     type                  title         director  \\\n",
       "1      s2  TV Show          Blood & Water              NaN   \n",
       "2      s3  TV Show              Ganglands  Julien Leclercq   \n",
       "3      s4  TV Show  Jailbirds New Orleans              NaN   \n",
       "\n",
       "                                                cast       country  \\\n",
       "1  Ama Qamata, Khosi Ngema, Gail Mabalane, Thaban...  South Africa   \n",
       "2  Sami Bouajila, Tracy Gotoas, Samuel Jouy, Nabi...           NaN   \n",
       "3                                                NaN           NaN   \n",
       "\n",
       "           date_added  release_year rating   duration  \\\n",
       "1  September 24, 2021          2021  TV-MA  2 Seasons   \n",
       "2  September 24, 2021          2021  TV-MA   1 Season   \n",
       "3  September 24, 2021          2021  TV-MA   1 Season   \n",
       "\n",
       "                                           listed_in  \\\n",
       "1    International TV Shows, TV Dramas, TV Mysteries   \n",
       "2  Crime TV Shows, International TV Shows, TV Act...   \n",
       "3                             Docuseries, Reality TV   \n",
       "\n",
       "                                         description  seasons  \n",
       "1  After crossing paths at a party, a Cape Town t...        2  \n",
       "2  To protect his family from a powerful drug lor...        1  \n",
       "3  Feuds, flirtations and toilet talk go down amo...        1  "
      ]
     },
     "execution_count": 52,
     "metadata": {},
     "output_type": "execute_result"
    }
   ],
   "source": [
    "df_tvshows.head(3)"
   ]
  },
  {
   "cell_type": "markdown",
   "id": "673181e2",
   "metadata": {},
   "source": [
    "##### *Define the required conditions*"
   ]
  },
  {
   "cell_type": "code",
   "execution_count": 53,
   "id": "88da1a26",
   "metadata": {},
   "outputs": [],
   "source": [
    "# released after 2010 (inclusive)\n",
    "from_2010 = df_tvshows['release_year'] >= 2010\n",
    "\n",
    "# released before 2015 (inclusive)\n",
    "to_2015 = df_tvshows['release_year'] <= 2015\n",
    "\n",
    "# with at least 5 seasons\n",
    "at_least_5 = df_tvshows['seasons'] >= 5"
   ]
  },
  {
   "cell_type": "markdown",
   "id": "8ad7ac6a",
   "metadata": {},
   "source": [
    "##### *Create a dataframe based on the predefined conditions*"
   ]
  },
  {
   "cell_type": "code",
   "execution_count": 54,
   "id": "e039ab6d",
   "metadata": {},
   "outputs": [],
   "source": [
    "between = df_tvshows[(from_2010 & to_2015) & at_least_5].sort_values(by='seasons', ascending=False)"
   ]
  },
  {
   "cell_type": "code",
   "execution_count": 55,
   "id": "8d8c742d",
   "metadata": {},
   "outputs": [
    {
     "data": {
      "text/html": [
       "<div>\n",
       "<style scoped>\n",
       "    .dataframe tbody tr th:only-of-type {\n",
       "        vertical-align: middle;\n",
       "    }\n",
       "\n",
       "    .dataframe tbody tr th {\n",
       "        vertical-align: top;\n",
       "    }\n",
       "\n",
       "    .dataframe thead th {\n",
       "        text-align: right;\n",
       "    }\n",
       "</style>\n",
       "<table border=\"1\" class=\"dataframe\">\n",
       "  <thead>\n",
       "    <tr style=\"text-align: right;\">\n",
       "      <th></th>\n",
       "      <th>show_id</th>\n",
       "      <th>type</th>\n",
       "      <th>title</th>\n",
       "      <th>director</th>\n",
       "      <th>cast</th>\n",
       "      <th>country</th>\n",
       "      <th>date_added</th>\n",
       "      <th>release_year</th>\n",
       "      <th>rating</th>\n",
       "      <th>duration</th>\n",
       "      <th>listed_in</th>\n",
       "      <th>description</th>\n",
       "      <th>seasons</th>\n",
       "    </tr>\n",
       "  </thead>\n",
       "  <tbody>\n",
       "    <tr>\n",
       "      <th>7844</th>\n",
       "      <td>s7848</td>\n",
       "      <td>TV Show</td>\n",
       "      <td>Red vs. Blue</td>\n",
       "      <td>NaN</td>\n",
       "      <td>Burnie Burns, Jason Saldaña, Gustavo Sorola, G...</td>\n",
       "      <td>United States</td>\n",
       "      <td>NaN</td>\n",
       "      <td>2015</td>\n",
       "      <td>NR</td>\n",
       "      <td>13 Seasons</td>\n",
       "      <td>TV Action &amp; Adventure, TV Comedies, TV Sci-Fi ...</td>\n",
       "      <td>This parody of first-person shooter games, mil...</td>\n",
       "      <td>13</td>\n",
       "    </tr>\n",
       "    <tr>\n",
       "      <th>5801</th>\n",
       "      <td>s5804</td>\n",
       "      <td>TV Show</td>\n",
       "      <td>Forensic Files</td>\n",
       "      <td>NaN</td>\n",
       "      <td>Peter Thomas</td>\n",
       "      <td>United States</td>\n",
       "      <td>September 1, 2016</td>\n",
       "      <td>2011</td>\n",
       "      <td>TV-MA</td>\n",
       "      <td>9 Seasons</td>\n",
       "      <td>Crime TV Shows, Docuseries, Science &amp; Nature TV</td>\n",
       "      <td>Detectives and crime lab technicians use the l...</td>\n",
       "      <td>9</td>\n",
       "    </tr>\n",
       "    <tr>\n",
       "      <th>8439</th>\n",
       "      <td>s8443</td>\n",
       "      <td>TV Show</td>\n",
       "      <td>The Office (U.S.)</td>\n",
       "      <td>NaN</td>\n",
       "      <td>Steve Carell, John Krasinski, Jenna Fischer, R...</td>\n",
       "      <td>United States</td>\n",
       "      <td>January 1, 2016</td>\n",
       "      <td>2012</td>\n",
       "      <td>TV-14</td>\n",
       "      <td>9 Seasons</td>\n",
       "      <td>TV Comedies</td>\n",
       "      <td>This hit comedy chronicles the foibles of disg...</td>\n",
       "      <td>9</td>\n",
       "    </tr>\n",
       "  </tbody>\n",
       "</table>\n",
       "</div>"
      ],
      "text/plain": [
       "     show_id     type              title director  \\\n",
       "7844   s7848  TV Show       Red vs. Blue      NaN   \n",
       "5801   s5804  TV Show     Forensic Files      NaN   \n",
       "8439   s8443  TV Show  The Office (U.S.)      NaN   \n",
       "\n",
       "                                                   cast        country  \\\n",
       "7844  Burnie Burns, Jason Saldaña, Gustavo Sorola, G...  United States   \n",
       "5801                                       Peter Thomas  United States   \n",
       "8439  Steve Carell, John Krasinski, Jenna Fischer, R...  United States   \n",
       "\n",
       "             date_added  release_year rating    duration  \\\n",
       "7844                NaN          2015     NR  13 Seasons   \n",
       "5801  September 1, 2016          2011  TV-MA   9 Seasons   \n",
       "8439    January 1, 2016          2012  TV-14   9 Seasons   \n",
       "\n",
       "                                              listed_in  \\\n",
       "7844  TV Action & Adventure, TV Comedies, TV Sci-Fi ...   \n",
       "5801    Crime TV Shows, Docuseries, Science & Nature TV   \n",
       "8439                                        TV Comedies   \n",
       "\n",
       "                                            description  seasons  \n",
       "7844  This parody of first-person shooter games, mil...       13  \n",
       "5801  Detectives and crime lab technicians use the l...        9  \n",
       "8439  This hit comedy chronicles the foibles of disg...        9  "
      ]
     },
     "execution_count": 55,
     "metadata": {},
     "output_type": "execute_result"
    }
   ],
   "source": [
    "between.head(3)"
   ]
  },
  {
   "cell_type": "markdown",
   "id": "0fe0cef0",
   "metadata": {},
   "source": [
    "##### *Plot the TV shows released between 2010-2015 with at least 5 seasons*"
   ]
  },
  {
   "cell_type": "code",
   "execution_count": 56,
   "id": "6665b627",
   "metadata": {},
   "outputs": [
    {
     "data": {
      "image/png": "[encoded data removed]",
      "text/plain": [
       "<Figure size 1200x400 with 1 Axes>"
      ]
     },
     "metadata": {},
     "output_type": "display_data"
    }
   ],
   "source": [
    "plt.figure(figsize=(12,4), dpi=100, facecolor='white')\n",
    "sns.barplot(data=between, x='title', y='seasons', order=between.sort_values('seasons').title)\n",
    "plt.xlabel(None)\n",
    "plt.ylabel(None)\n",
    "plt.xticks(rotation=90)\n",
    "plt.title('TV shows released between 2010-2015 with at least 5 seasons')\n",
    "plt.savefig('./images/tv_shows_2010_2015.svg')\n",
    "plt.show()"
   ]
  },
  {
   "cell_type": "markdown",
   "id": "01c6cb6a",
   "metadata": {},
   "source": [
    "### *Question 15: Show the top 10 actors with most appearances in movies and TV shows in US and UK* <a class='anchor' id='q15'></a>\n",
    "\n",
    "##### *Create dataframes with movies and TV shows produced in US and UK*"
   ]
  },
  {
   "cell_type": "code",
   "execution_count": 57,
   "id": "6cad4f31",
   "metadata": {},
   "outputs": [],
   "source": [
    "# movies - usa / uk\n",
    "mov_us = df_movies[(df_movies['country'] == 'United States') & (df_movies['cast'].notnull())]\n",
    "mov_uk = df_movies[(df_movies['country'] == 'United Kingdom') & (df_movies['cast'].notnull())]\n",
    "\n",
    "# tv shows - usa / uk\n",
    "tvs_us = df_tvshows[(df_tvshows['country'] == 'United States') & (df_tvshows['cast'].notnull())]\n",
    "tvs_uk = df_tvshows[(df_tvshows['country'] == 'United Kingdom') & (df_tvshows['cast'].notnull())]"
   ]
  },
  {
   "cell_type": "markdown",
   "id": "6633e660",
   "metadata": {},
   "source": [
    "##### *Count the total appearances of each actor in movies*"
   ]
  },
  {
   "cell_type": "code",
   "execution_count": 58,
   "id": "05617b7e",
   "metadata": {},
   "outputs": [],
   "source": [
    "# movie - usa\n",
    "act_usm = ', '.join(mov_us['cast']).split(', ')\n",
    "counter_act_usm = Counter(act_usm).most_common(10)\n",
    "\n",
    "# movie - uk\n",
    "act_ukm = ', '.join(mov_uk['cast']).split(', ')\n",
    "counter_act_ukm = Counter(act_ukm).most_common(10)"
   ]
  },
  {
   "cell_type": "markdown",
   "id": "5c943e8c",
   "metadata": {},
   "source": [
    "##### *Count the total appearances of each actor in TV shows*"
   ]
  },
  {
   "cell_type": "code",
   "execution_count": 59,
   "id": "05b868e1",
   "metadata": {},
   "outputs": [],
   "source": [
    "# tv shows - usa\n",
    "act_ustv = ', '.join(tvs_us['cast']).split(', ')\n",
    "counter_act_ustv = Counter(act_ustv).most_common(10)\n",
    "\n",
    "# tv shows - uk\n",
    "act_uktv = ', '.join(tvs_uk['cast']).split(', ')\n",
    "counter_act_uktv = Counter(act_uktv).most_common(10)"
   ]
  },
  {
   "cell_type": "markdown",
   "id": "2d02c17f",
   "metadata": {},
   "source": [
    "##### *Store the results into new interim dataframes*"
   ]
  },
  {
   "cell_type": "code",
   "execution_count": 60,
   "id": "07b7ffc7",
   "metadata": {},
   "outputs": [],
   "source": [
    "us_movies = pd.DataFrame(counter_act_usm, columns=['Name', 'Movies'])\n",
    "uk_movies = pd.DataFrame(counter_act_ukm, columns=['Name', 'Movies'])\n",
    "us_tvshows = pd.DataFrame(counter_act_ustv, columns=['Name', 'TV Shows'])\n",
    "uk_tvshows = pd.DataFrame(counter_act_uktv, columns=['Name', 'TV Shows'])"
   ]
  },
  {
   "cell_type": "markdown",
   "id": "856dbc6a",
   "metadata": {},
   "source": [
    "##### *Plot the results*"
   ]
  },
  {
   "cell_type": "code",
   "execution_count": 61,
   "id": "5a1b7681",
   "metadata": {},
   "outputs": [
    {
     "data": {
      "image/png": "[encoded data removed]",
      "text/plain": [
       "<Figure size 1200x800 with 4 Axes>"
      ]
     },
     "metadata": {},
     "output_type": "display_data"
    }
   ],
   "source": [
    "fig, ax = plt.subplots(2, 2, figsize=(12,8), dpi=100, facecolor='white')\n",
    "\n",
    "# us movies\n",
    "sns.barplot(y=us_movies['Name'], x=us_movies['Movies'], ax=ax[0,0], palette='flare_r')\n",
    "ax[0,0].set_xlabel(None)\n",
    "ax[0,0].set_ylabel(None)\n",
    "ax[0,0].set_title('Most appearances in US movies')\n",
    "\n",
    "# us tv shows\n",
    "sns.barplot(y=us_tvshows['Name'], x=us_tvshows['TV Shows'], ax=ax[1,0], palette='viridis')\n",
    "ax[1,0].set_xlabel(None)\n",
    "ax[1,0].set_ylabel(None)\n",
    "ax[1,0].set_title('Most appearances in US TV shows')\n",
    "\n",
    "# uk movies\n",
    "sns.barplot(y=uk_movies['Name'], x=uk_movies['Movies'], ax=ax[0,1], palette='flare_r')\n",
    "ax[0,1].set_xlabel(None)\n",
    "ax[0,1].set_ylabel(None)\n",
    "ax[0,1].set_title('Most appearances in UK movies')\n",
    "\n",
    "# uk tv shows\n",
    "sns.barplot(y=uk_tvshows['Name'], x=uk_tvshows['TV Shows'], ax=ax[1,1], palette='viridis')\n",
    "ax[1,1].set_xlabel(None)\n",
    "ax[1,1].set_ylabel(None)\n",
    "ax[1,1].set_title('Most appearances in UK TV shows')\n",
    "\n",
    "plt.tight_layout(pad=3)\n",
    "plt.savefig('./images/most_appearances.svg')\n",
    "plt.show()"
   ]
  },
  {
   "cell_type": "markdown",
   "id": "dc934989",
   "metadata": {},
   "source": [
    "---\n",
    "\n",
    "*Thank you!*\n",
    "\n",
    "---"
   ]
  }
 ],
 "metadata": {
  "kernelspec": {
   "display_name": "Python 3 (ipykernel)",
   "language": "python",
   "name": "python3"
  },
  "language_info": {
   "codemirror_mode": {
    "name": "ipython",
    "version": 3
   },
   "file_extension": ".py",
   "mimetype": "text/x-python",
   "name": "python",
   "nbconvert_exporter": "python",
   "pygments_lexer": "ipython3",
   "version": "3.9.7"
  }
 },
 "nbformat": 4,
 "nbformat_minor": 5
}
